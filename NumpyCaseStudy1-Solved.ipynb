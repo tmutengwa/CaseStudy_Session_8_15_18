{
 "cells": [
  {
   "cell_type": "markdown",
   "metadata": {},
   "source": [
    "# This case study consists of 1000 marks and the solution file is expected to be submitted in the upcoming session for evaluation."
   ]
  },
  {
   "cell_type": "code",
   "execution_count": 2,
   "metadata": {},
   "outputs": [],
   "source": [
    "import numpy as np\n",
    "from numpy.random import randint as ri"
   ]
  },
  {
   "cell_type": "markdown",
   "metadata": {},
   "source": [
    "## indexing and slicing"
   ]
  },
  {
   "cell_type": "markdown",
   "metadata": {},
   "source": [
    "#### vector indexing"
   ]
  },
  {
   "cell_type": "code",
   "execution_count": 3,
   "metadata": {},
   "outputs": [
    {
     "name": "stdout",
     "output_type": "stream",
     "text": [
      "Array: [ 0  1  2  3  4  5  6  7  8  9 10]\n"
     ]
    }
   ],
   "source": [
    "arr = np.arange(0,11)\n",
    "print(\"Array:\",arr)"
   ]
  },
  {
   "cell_type": "code",
   "execution_count": 4,
   "metadata": {},
   "outputs": [
    {
     "name": "stdout",
     "output_type": "stream",
     "text": [
      "Element at 7th index is: 6\n",
      "Elements from 3rd to 5th index are: [3 4]\n",
      "Elements up to 4th index are: [0 1 2 3]\n",
      "Reverse the elements: [10  9  8  7  6  5  4  3  2  1  0]\n",
      "New array: [ 0  2  4  6  8 10 12 14 16 18 20]\n",
      "Elements at 2nd, 4th, and 9th index are: [ 4  8 18]\n"
     ]
    }
   ],
   "source": [
    "print(\"Element at 7th index is:\", arr[6])\n",
    "\n",
    "\n",
    "print(\"Elements from 3rd to 5th index are:\", arr[3:5])\n",
    "\n",
    "\n",
    "print(\"Elements up to 4th index are:\", arr[:4])\n",
    "\n",
    "\n",
    "print(\"Reverse the elements:\", arr[::-1])\n",
    "\n",
    "\n",
    "\n",
    "arr = np.arange(0,21,2)\n",
    "print(\"New array:\",arr)\n",
    "\n",
    "\n",
    "print(\"Elements at 2nd, 4th, and 9th index are:\", arr[np.array([2,4,9])]) # Pass a list as a index to subset:"
   ]
  },
  {
   "cell_type": "markdown",
   "metadata": {},
   "source": [
    "#### matrix indexing "
   ]
  },
  {
   "cell_type": "code",
   "execution_count": 5,
   "metadata": {},
   "outputs": [
    {
     "name": "stdout",
     "output_type": "stream",
     "text": [
      "Matrix of random 2-digit numbers\n",
      "--------------------------------\n",
      " [[24 12 71 68 89]\n",
      " [85 17 89 30 41]\n",
      " [25 34 71 42 54]]\n",
      "\n",
      "Double bracket indexing\n",
      "------------------------\n",
      "Element in row index 1 and column index 2: 89\n",
      "\n",
      "Single bracket with comma indexing\n",
      "----------------------------------\n",
      "Element in row index 1 and column index 2: 89\n",
      "\n",
      "Row or column extract\n",
      "----------------------\n",
      "Entire row at index 2: [25 34 71 42 54]\n",
      "Entire column at index 3: [68 30 42]\n",
      "\n",
      "Subsetting sub-matrices\n",
      "--------------------------\n",
      "Matrix with row indices 1 and 2 and column indices 3 and 4\n",
      " [[30 41]\n",
      " [42 54]]\n",
      "Matrix with row indices 0 and 1 and column indices 1 and 3\n",
      " [[12 68]\n",
      " [17 30]]\n"
     ]
    }
   ],
   "source": [
    "mat = np.array(ri(10,100,15)).reshape(3,5)\n",
    "print(\"Matrix of random 2-digit numbers\\n--------------------------------\\n\",mat)\n",
    "\n",
    "\n",
    "print(\"\\nDouble bracket indexing\\n------------------------\")\n",
    "print(\"Element in row index 1 and column index 2:\", mat[1][2])\n",
    "\n",
    "\n",
    "print(\"\\nSingle bracket with comma indexing\\n----------------------------------\")\n",
    "print(\"Element in row index 1 and column index 2:\", mat[1,2])\n",
    "print(\"\\nRow or column extract\\n----------------------\")\n",
    "\n",
    "\n",
    "print(\"Entire row at index 2:\", mat[2,:])\n",
    "print(\"Entire column at index 3:\", mat[:,3])\n",
    "\n",
    "\n",
    "print(\"\\nSubsetting sub-matrices\\n--------------------------\")\n",
    "print(\"Matrix with row indices 1 and 2 and column indices 3 and 4\\n\", mat[1:3,3:5])\n",
    "\n",
    "\n",
    "print(\"Matrix with row indices 0 and 1 and column indices 1 and 3\\n\", mat[:2,[1,3]])"
   ]
  },
  {
   "cell_type": "markdown",
   "metadata": {},
   "source": [
    "## Fancy indexing and index trick\n",
    "NumPy offers more indexing facilities than regular Python sequences. In addition to indexing by integers and slices, as we saw before, arrays can be indexed by arrays of integers and arrays of booleans.\n",
    "\n",
    "#### Indexing with Arrays of Indices"
   ]
  },
  {
   "cell_type": "code",
   "execution_count": 6,
   "metadata": {},
   "outputs": [
    {
     "name": "stdout",
     "output_type": "stream",
     "text": [
      "[  0   1   4   9  16  25  36  49  64  81 100 121]\n",
      "[ 1  1  9 64 25]\n"
     ]
    }
   ],
   "source": [
    "a = np.arange(12)**2                      # the first 12 square numbers\n",
    "i = np.array([ 1,1,3,8,5] )              # an array of indices\n",
    "print(a)\n",
    "print(a[i])                              # the elements of a at the positions i"
   ]
  },
  {
   "cell_type": "code",
   "execution_count": 7,
   "metadata": {},
   "outputs": [
    {
     "name": "stdout",
     "output_type": "stream",
     "text": [
      "[[ 9 16]\n",
      " [81 49]]\n"
     ]
    }
   ],
   "source": [
    "j = np.array( [ [ 3, 4], [ 9, 7 ] ] )      # a bidimensional array of indices\n",
    "print(a[j])                                      # the elements of a at the positions j"
   ]
  },
  {
   "cell_type": "markdown",
   "metadata": {},
   "source": [
    "We can also give indexes for more than one dimension. The arrays of indices for each dimension must have the same shape."
   ]
  },
  {
   "cell_type": "code",
   "execution_count": 8,
   "metadata": {},
   "outputs": [
    {
     "data": {
      "text/plain": [
       "array([[ 0,  1,  2,  3],\n",
       "       [ 4,  5,  6,  7],\n",
       "       [ 8,  9, 10, 11]])"
      ]
     },
     "execution_count": 8,
     "metadata": {},
     "output_type": "execute_result"
    }
   ],
   "source": [
    "a = np.arange(12).reshape(3,4)\n",
    "a"
   ]
  },
  {
   "cell_type": "code",
   "execution_count": 10,
   "metadata": {},
   "outputs": [
    {
     "data": {
      "text/plain": [
       "array([[ 2,  5],\n",
       "       [ 7, 11]])"
      ]
     },
     "execution_count": 10,
     "metadata": {},
     "output_type": "execute_result"
    }
   ],
   "source": [
    "i = np.array( [ [0,1],                        # indices for the first dim of a\n",
    "                [1,2] ] )\n",
    "\n",
    "j = np.array( [ [2,1],                        # indices for the second dim\n",
    "                [3,3] ] )\n",
    "\n",
    "a[i,j]                                       # Fill * to produce output given below"
   ]
  },
  {
   "cell_type": "code",
   "execution_count": 11,
   "metadata": {},
   "outputs": [
    {
     "data": {
      "text/plain": [
       "array([[ 2,  6],\n",
       "       [ 6, 10]])"
      ]
     },
     "execution_count": 11,
     "metadata": {},
     "output_type": "execute_result"
    }
   ],
   "source": [
    "a[i,2]"
   ]
  },
  {
   "cell_type": "markdown",
   "metadata": {},
   "source": [
    "Naturally, we can put i and j in a sequence (say a list) and then do the indexing with the list."
   ]
  },
  {
   "cell_type": "code",
   "execution_count": 12,
   "metadata": {},
   "outputs": [
    {
     "name": "stderr",
     "output_type": "stream",
     "text": [
      "C:\\DSMasters\\envs\\tensorflow\\lib\\site-packages\\ipykernel_launcher.py:2: FutureWarning: Using a non-tuple sequence for multidimensional indexing is deprecated; use `arr[tuple(seq)]` instead of `arr[seq]`. In the future this will be interpreted as an array index, `arr[np.array(seq)]`, which will result either in an error or a different result.\n",
      "  \n"
     ]
    },
    {
     "data": {
      "text/plain": [
       "array([[ 2,  5],\n",
       "       [ 7, 11]])"
      ]
     },
     "execution_count": 12,
     "metadata": {},
     "output_type": "execute_result"
    }
   ],
   "source": [
    "l = [i,j]\n",
    "a[l]          # equivalent to a[i,j]"
   ]
  },
  {
   "cell_type": "markdown",
   "metadata": {},
   "source": [
    "However, we can not do this by putting i and j into an array, because this array will be interpreted as indexing the first dimension of a."
   ]
  },
  {
   "cell_type": "code",
   "execution_count": 15,
   "metadata": {},
   "outputs": [
    {
     "ename": "IndexError",
     "evalue": "index 3 is out of bounds for axis 0 with size 3",
     "output_type": "error",
     "traceback": [
      "\u001b[1;31m---------------------------------------------------------------------------\u001b[0m",
      "\u001b[1;31mIndexError\u001b[0m                                Traceback (most recent call last)",
      "\u001b[1;32m<ipython-input-15-705e07747363>\u001b[0m in \u001b[0;36m<module>\u001b[1;34m\u001b[0m\n\u001b[0;32m      1\u001b[0m \u001b[0ms\u001b[0m \u001b[1;33m=\u001b[0m \u001b[0mnp\u001b[0m\u001b[1;33m.\u001b[0m\u001b[0marray\u001b[0m\u001b[1;33m(\u001b[0m \u001b[1;33m[\u001b[0m\u001b[0mi\u001b[0m\u001b[1;33m,\u001b[0m\u001b[0mj\u001b[0m\u001b[1;33m]\u001b[0m \u001b[1;33m)\u001b[0m\u001b[1;33m\u001b[0m\u001b[1;33m\u001b[0m\u001b[0m\n\u001b[0;32m      2\u001b[0m \u001b[0ms\u001b[0m\u001b[1;33m\u001b[0m\u001b[1;33m\u001b[0m\u001b[0m\n\u001b[1;32m----> 3\u001b[1;33m \u001b[0ma\u001b[0m\u001b[1;33m[\u001b[0m\u001b[0ms\u001b[0m\u001b[1;33m]\u001b[0m                                       \u001b[1;31m# not what we want\u001b[0m\u001b[1;33m\u001b[0m\u001b[1;33m\u001b[0m\u001b[0m\n\u001b[0m",
      "\u001b[1;31mIndexError\u001b[0m: index 3 is out of bounds for axis 0 with size 3"
     ]
    }
   ],
   "source": [
    "s = np.array( [i,j] )\n",
    "s\n",
    "a[s]                                       # not what we want"
   ]
  },
  {
   "cell_type": "code",
   "execution_count": 16,
   "metadata": {},
   "outputs": [
    {
     "data": {
      "text/plain": [
       "array([[ 2,  5],\n",
       "       [ 7, 11]])"
      ]
     },
     "execution_count": 16,
     "metadata": {},
     "output_type": "execute_result"
    }
   ],
   "source": [
    "a[tuple(s)]                                # repalce *  with tuple"
   ]
  },
  {
   "cell_type": "code",
   "execution_count": 17,
   "metadata": {},
   "outputs": [
    {
     "data": {
      "text/plain": [
       "array([ 20.  ,  51.25,  82.5 , 113.75, 145.  ])"
      ]
     },
     "execution_count": 17,
     "metadata": {},
     "output_type": "execute_result"
    }
   ],
   "source": [
    "time = np.linspace(20,145,5)                 # linspace num=5, from 20 to 145\n",
    "time"
   ]
  },
  {
   "cell_type": "code",
   "execution_count": 18,
   "metadata": {},
   "outputs": [
    {
     "data": {
      "text/plain": [
       "array([[ 0.        ,  0.84147098,  0.90929743,  0.14112001],\n",
       "       [-0.7568025 , -0.95892427, -0.2794155 ,  0.6569866 ],\n",
       "       [ 0.98935825,  0.41211849, -0.54402111, -0.99999021],\n",
       "       [-0.53657292,  0.42016704,  0.99060736,  0.65028784],\n",
       "       [-0.28790332, -0.96139749, -0.75098725,  0.14987721]])"
      ]
     },
     "execution_count": 18,
     "metadata": {},
     "output_type": "execute_result"
    }
   ],
   "source": [
    "data = np.sin(np.arange(20)).reshape(5,4)      # 4 time-dependent series\n",
    "data"
   ]
  },
  {
   "cell_type": "code",
   "execution_count": 20,
   "metadata": {},
   "outputs": [
    {
     "data": {
      "text/plain": [
       "array([2, 3, 0, 2, 3], dtype=int64)"
      ]
     },
     "execution_count": 20,
     "metadata": {},
     "output_type": "execute_result"
    }
   ],
   "source": [
    "# index of the maxima for each series using argmax\n",
    "ind = data.argmax(axis=1) \n",
    "ind"
   ]
  },
  {
   "cell_type": "code",
   "execution_count": 21,
   "metadata": {},
   "outputs": [
    {
     "data": {
      "text/plain": [
       "array([ 82.5 , 113.75,  20.  ,  82.5 , 113.75])"
      ]
     },
     "execution_count": 21,
     "metadata": {},
     "output_type": "execute_result"
    }
   ],
   "source": [
    "time_max = time[ind]                       # times corresponding to the maxima\n",
    "time_max"
   ]
  },
  {
   "cell_type": "markdown",
   "metadata": {},
   "source": [
    "You can also use indexing with arrays as a target to assign to:"
   ]
  },
  {
   "cell_type": "code",
   "execution_count": 23,
   "metadata": {},
   "outputs": [
    {
     "data": {
      "text/plain": [
       "array([0, 0, 2, 0, 0])"
      ]
     },
     "execution_count": 23,
     "metadata": {},
     "output_type": "execute_result"
    }
   ],
   "source": [
    "#Assign 0 at index position 1,3,4\n",
    "\n",
    "a = np.arange(5)\n",
    "a[[1,3,4]] = 0\n",
    "a"
   ]
  },
  {
   "cell_type": "code",
   "execution_count": 24,
   "metadata": {},
   "outputs": [
    {
     "data": {
      "text/plain": [
       "array([[False, False, False, False],\n",
       "       [False,  True,  True,  True],\n",
       "       [ True,  True,  True,  True]])"
      ]
     },
     "execution_count": 24,
     "metadata": {},
     "output_type": "execute_result"
    }
   ],
   "source": [
    "#Indexing with boolean arrays\n",
    "#Generate 0 to 12 elements array with diemension 3*4\n",
    "a = np.arange(12).reshape(3,4)\n",
    "\n",
    "b = a > 4       #Check if a has any element greater than 4\n",
    "b               # b is a boolean with a's shape"
   ]
  },
  {
   "cell_type": "code",
   "execution_count": 25,
   "metadata": {},
   "outputs": [
    {
     "data": {
      "text/plain": [
       "array([ 5,  6,  7,  8,  9, 10, 11])"
      ]
     },
     "execution_count": 25,
     "metadata": {},
     "output_type": "execute_result"
    }
   ],
   "source": [
    "a[b]                                       # 1d array with the selected elements"
   ]
  },
  {
   "cell_type": "markdown",
   "metadata": {},
   "source": [
    "This property can be very useful in assignments:"
   ]
  },
  {
   "cell_type": "code",
   "execution_count": 26,
   "metadata": {},
   "outputs": [
    {
     "data": {
      "text/plain": [
       "array([[0, 1, 2, 3],\n",
       "       [4, 0, 0, 0],\n",
       "       [0, 0, 0, 0]])"
      ]
     },
     "execution_count": 26,
     "metadata": {},
     "output_type": "execute_result"
    }
   ],
   "source": [
    "a[b] = 0                                   # All elements of 'a' higher than 4 become 0\n",
    "a"
   ]
  },
  {
   "cell_type": "markdown",
   "metadata": {},
   "source": [
    "## slicing and Subetting "
   ]
  },
  {
   "cell_type": "code",
   "execution_count": 34,
   "metadata": {},
   "outputs": [
    {
     "name": "stdout",
     "output_type": "stream",
     "text": [
      "Original matrix\n",
      "[[11 12 13]\n",
      " [21 22 23]\n",
      " [31 32 33]]\n",
      "\n",
      "Sliced matrix with :2 and :2 \n",
      "[[11 12]\n",
      " [21 22]]\n",
      "\n",
      "Change the sliced matrix value of first element\n",
      "[[1000   12]\n",
      " [  21   22]]\n",
      "\n",
      "But the original matrix? WHOA! It got changed too!\n",
      "[[1000   12   13]\n",
      " [  21   22   23]\n",
      " [  31   32   33]]\n",
      "\n",
      "Doing it again little differently now...\n",
      "\n",
      "Original matrix\n",
      "[[11 12 13]\n",
      " [21 22 23]\n",
      " [31 32 33]]\n",
      "\n",
      "Sliced matrix\n",
      "[[11 12]\n",
      " [21 22]]\n",
      "\n",
      "Change the sliced matrix\n",
      "[[1000   12]\n",
      " [  21   22]]\n",
      "\n",
      "But the original matrix? NO CHANGE this time:)\n",
      "[[11 12 13]\n",
      " [21 22 23]\n",
      " [31 32 33]]\n"
     ]
    }
   ],
   "source": [
    "mat = np.array([[11,12,13],[21,22,23],[31,32,33]])\n",
    "print(\"Original matrix\")\n",
    "print(mat)\n",
    "\n",
    "print (\"\\nSliced matrix with :2 and :2 \")\n",
    "mat_slice = mat[:2,:2]\n",
    "\n",
    "print(mat_slice)\n",
    "print (\"\\nChange the sliced matrix value of first element\")\n",
    "\n",
    "mat_slice[0,0] = 1000\n",
    "print (mat_slice)\n",
    "\n",
    "print(\"\\nBut the original matrix? WHOA! It got changed too!\")\n",
    "print(mat)\n",
    "\n",
    "\n",
    "# Little different way to create a copy of the slixed matrix\n",
    "print (\"\\nDoing it again little differently now...\\n\")\n",
    "mat = np.array([[11,12,13],[21,22,23],[31,32,33]])\n",
    "print(\"Original matrix\")\n",
    "print(mat)\n",
    "\n",
    "\n",
    "mat_slice = np.array(mat[:2,:2]) # Notice the np.array command to create a new array not just slicing\n",
    "print (\"\\nSliced matrix\")\n",
    "print(mat_slice)\n",
    "\n",
    "\n",
    "print (\"\\nChange the sliced matrix\")\n",
    "mat_slice[0,0] = 1000\n",
    "print (mat_slice)\n",
    "\n",
    "\n",
    "print(\"\\nBut the original matrix? NO CHANGE this time:)\")\n",
    "print(mat)"
   ]
  },
  {
   "cell_type": "markdown",
   "metadata": {},
   "source": [
    "## Updating  arrays\n",
    "* insert \n",
    "* append\n",
    "* delete"
   ]
  },
  {
   "cell_type": "code",
   "execution_count": 36,
   "metadata": {},
   "outputs": [
    {
     "data": {
      "text/plain": [
       "array([[ 0.,  1.,  2.,  3.],\n",
       "       [ 4.,  5.,  6.,  7.],\n",
       "       [ 8.,  9., 10., 11.],\n",
       "       [12., 13., 14., 15.]])"
      ]
     },
     "execution_count": 36,
     "metadata": {},
     "output_type": "execute_result"
    }
   ],
   "source": [
    "import numpy as np\n",
    "x = np.arange(16.0).reshape(4, 4)\n",
    "x"
   ]
  },
  {
   "cell_type": "code",
   "execution_count": 37,
   "metadata": {},
   "outputs": [
    {
     "data": {
      "text/plain": [
       "array([ 0.,  5.,  1.,  2.,  3.,  4.,  5.,  6.,  7.,  8.,  9., 10., 11.,\n",
       "       12., 13., 14., 15.])"
      ]
     },
     "execution_count": 37,
     "metadata": {},
     "output_type": "execute_result"
    }
   ],
   "source": [
    "# Insert 5  in array x before index 1 \n",
    "np.insert(x,1,5 )"
   ]
  },
  {
   "cell_type": "code",
   "execution_count": 38,
   "metadata": {},
   "outputs": [
    {
     "data": {
      "text/plain": [
       "array([[ 0.,  1.,  2.,  3.],\n",
       "       [ 5.,  5.,  5.,  5.],\n",
       "       [ 4.,  5.,  6.,  7.],\n",
       "       [ 8.,  9., 10., 11.],\n",
       "       [12., 13., 14., 15.]])"
      ]
     },
     "execution_count": 38,
     "metadata": {},
     "output_type": "execute_result"
    }
   ],
   "source": [
    "# Insert row with 5 before 1 row\n",
    "np.insert(x,1,5, axis=0)"
   ]
  },
  {
   "cell_type": "code",
   "execution_count": 39,
   "metadata": {},
   "outputs": [
    {
     "data": {
      "text/plain": [
       "array([[ 0.,  5.,  1.,  2.,  3.],\n",
       "       [ 4.,  5.,  5.,  6.,  7.],\n",
       "       [ 8.,  5.,  9., 10., 11.],\n",
       "       [12.,  5., 13., 14., 15.]])"
      ]
     },
     "execution_count": 39,
     "metadata": {},
     "output_type": "execute_result"
    }
   ],
   "source": [
    "# Insert 5 before 1 column\n",
    "np.insert(x,1,5, axis=1)"
   ]
  },
  {
   "cell_type": "code",
   "execution_count": 42,
   "metadata": {},
   "outputs": [],
   "source": [
    "#Append two arrays\n",
    "arr1 = np.array([[1, 2, 3], [4, 5, 6]])\n",
    "arr2 = np.array([[7, 8, 9]])"
   ]
  },
  {
   "cell_type": "code",
   "execution_count": 43,
   "metadata": {},
   "outputs": [
    {
     "data": {
      "text/plain": [
       "array([[1, 2, 3],\n",
       "       [4, 5, 6],\n",
       "       [7, 8, 9]])"
      ]
     },
     "execution_count": 43,
     "metadata": {},
     "output_type": "execute_result"
    }
   ],
   "source": [
    "np.append(arr1, arr2, axis=0)"
   ]
  },
  {
   "cell_type": "code",
   "execution_count": 44,
   "metadata": {},
   "outputs": [
    {
     "data": {
      "text/plain": [
       "array([1, 2, 3, 4, 5, 6, 7, 8, 9])"
      ]
     },
     "execution_count": 44,
     "metadata": {},
     "output_type": "execute_result"
    }
   ],
   "source": [
    "#Verify if axis is not mentioned\n",
    "np.append(arr1, arr2)"
   ]
  },
  {
   "cell_type": "code",
   "execution_count": 45,
   "metadata": {},
   "outputs": [
    {
     "data": {
      "text/plain": [
       "array([[ 0.,  1.,  2.,  3.],\n",
       "       [ 8.,  9., 10., 11.],\n",
       "       [12., 13., 14., 15.]])"
      ]
     },
     "execution_count": 45,
     "metadata": {},
     "output_type": "execute_result"
    }
   ],
   "source": [
    "#Delete 1 row in x\n",
    "np.delete(x,1,0)"
   ]
  },
  {
   "cell_type": "markdown",
   "metadata": {},
   "source": [
    "## diagonal operations "
   ]
  },
  {
   "cell_type": "code",
   "execution_count": 47,
   "metadata": {},
   "outputs": [
    {
     "data": {
      "text/plain": [
       "array([[0, 1, 2],\n",
       "       [3, 4, 5],\n",
       "       [6, 7, 8]])"
      ]
     },
     "execution_count": 47,
     "metadata": {},
     "output_type": "execute_result"
    }
   ],
   "source": [
    "x = np.arange(9).reshape((3,3))\n",
    "x"
   ]
  },
  {
   "cell_type": "code",
   "execution_count": 48,
   "metadata": {},
   "outputs": [
    {
     "data": {
      "text/plain": [
       "array([0, 4, 8])"
      ]
     },
     "execution_count": 48,
     "metadata": {},
     "output_type": "execute_result"
    }
   ],
   "source": [
    "#Get Diagonal Elements of x. Use np.diag\n",
    "np.diag(x)"
   ]
  },
  {
   "cell_type": "code",
   "execution_count": 49,
   "metadata": {},
   "outputs": [
    {
     "data": {
      "text/plain": [
       "array([1, 5])"
      ]
     },
     "execution_count": 49,
     "metadata": {},
     "output_type": "execute_result"
    }
   ],
   "source": [
    "#Get upper diagonal elemets, to produce given output\n",
    "np.diag(x, k=1)"
   ]
  },
  {
   "cell_type": "code",
   "execution_count": 50,
   "metadata": {},
   "outputs": [
    {
     "data": {
      "text/plain": [
       "array([3, 7])"
      ]
     },
     "execution_count": 50,
     "metadata": {},
     "output_type": "execute_result"
    }
   ],
   "source": [
    "#Get upper diagonal elemets. to produce given output\n",
    "np.diag(x, k=-1)"
   ]
  },
  {
   "cell_type": "code",
   "execution_count": 51,
   "metadata": {},
   "outputs": [
    {
     "data": {
      "text/plain": [
       "array([[1, 0, 0, 0],\n",
       "       [0, 2, 0, 0],\n",
       "       [0, 0, 3, 0],\n",
       "       [0, 0, 0, 4]])"
      ]
     },
     "execution_count": 51,
     "metadata": {},
     "output_type": "execute_result"
    }
   ],
   "source": [
    "#Create a two-dimensional array with the flattened input as a diagonal. use np.diagflat\n",
    "\n",
    "np.diagflat([[1,2], [3,4]])"
   ]
  },
  {
   "cell_type": "code",
   "execution_count": null,
   "metadata": {},
   "outputs": [],
   "source": []
  }
 ],
 "metadata": {
  "kernelspec": {
   "display_name": "Python 3",
   "language": "python",
   "name": "python3"
  },
  "language_info": {
   "codemirror_mode": {
    "name": "ipython",
    "version": 3
   },
   "file_extension": ".py",
   "mimetype": "text/x-python",
   "name": "python",
   "nbconvert_exporter": "python",
   "pygments_lexer": "ipython3",
   "version": "3.6.9"
  }
 },
 "nbformat": 4,
 "nbformat_minor": 2
}
